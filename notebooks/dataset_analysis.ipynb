{
 "cells": [
  {
   "cell_type": "code",
   "execution_count": 2,
   "metadata": {},
   "outputs": [],
   "source": [
    "import pandas as pd\n",
    "\n",
    "df_mountains = pd.read_csv('/home/oks/VSCode_Projects/Data_Science_Test_Task/Task_1_NER/data/mountain_dataset_with_markup.csv', converters={'marker': eval})"
   ]
  },
  {
   "cell_type": "code",
   "execution_count": 155,
   "metadata": {},
   "outputs": [],
   "source": [
    "import pandas as pd\n",
    "import sys\n",
    "import os\n",
    "sys.path.append(os.path.abspath(\"/home/oks/VSCode_Projects/Data_Science_Test_Task/Task_1_NER/src\"))\n",
    "from data_preprocessing import load_and_convert_labels\n"
   ]
  },
  {
   "cell_type": "code",
   "execution_count": 158,
   "metadata": {},
   "outputs": [],
   "source": [
    "# Load the local dataset from a CSV file\n",
    "dataset_path = \"/home/oks/VSCode_Projects/Data_Science_Test_Task/Task_1_NER/data/mountains_ner.csv\"\n",
    "dataset_df = pd.read_csv(dataset_path)"
   ]
  },
  {
   "cell_type": "code",
   "execution_count": 112,
   "metadata": {},
   "outputs": [
    {
     "data": {
      "text/html": [
       "<div>\n",
       "<style scoped>\n",
       "    .dataframe tbody tr th:only-of-type {\n",
       "        vertical-align: middle;\n",
       "    }\n",
       "\n",
       "    .dataframe tbody tr th {\n",
       "        vertical-align: top;\n",
       "    }\n",
       "\n",
       "    .dataframe thead th {\n",
       "        text-align: right;\n",
       "    }\n",
       "</style>\n",
       "<table border=\"1\" class=\"dataframe\">\n",
       "  <thead>\n",
       "    <tr style=\"text-align: right;\">\n",
       "      <th></th>\n",
       "      <th>sentence</th>\n",
       "      <th>tokens</th>\n",
       "      <th>labels</th>\n",
       "    </tr>\n",
       "  </thead>\n",
       "  <tbody>\n",
       "    <tr>\n",
       "      <th>0</th>\n",
       "      <td>Virender Sehwag and Harbhajan Singh were not named in the Indian squad due to recent poor performances while Irfan Pathan and Munaf Patel were not fully fit .</td>\n",
       "      <td>[Virender, Sehwag, and, Harbhajan, Singh, were, not, named, inthe, Indian, squad, due, to, recent, poor, performances, whileIrfan, Pathan, and, Munaf, Patel, were, not, fully, fit, .]</td>\n",
       "      <td>[0 0 0 0 0 0 0 0 0 0 0 0 0 0 0 0 0 0 0 0 0 0 0 0 0 0 0 0]</td>\n",
       "    </tr>\n",
       "    <tr>\n",
       "      <th>1</th>\n",
       "      <td>Mount Nangtud is the second highest mountain in Panay Island located in the Northeast of Barbaza with an elevation of 6,804 feet ( 2,074 meters ) above sea level .</td>\n",
       "      <td>[Mount, Nangtud, is, the, second, highest, mountain, in, PanayIsland, located, in, the, Northeast, of, Barbaza, with, anelevation, of, 6,804, feet, (, 2,074, meters, ), above, sealevel, .]</td>\n",
       "      <td>[1 2 0 0 0 0 0 0 0 0 0 0 0 0 0 0 0 0 0 0 0 0 0 0 0 0 0 0 0 0]</td>\n",
       "    </tr>\n",
       "    <tr>\n",
       "      <th>2</th>\n",
       "      <td>The European Team Championship bridge championship is held every two years .</td>\n",
       "      <td>[The, European, Team, Championship, bridge, championship, isheld, every, two, years, .]</td>\n",
       "      <td>[0 0 0 0 0 0 0 0 0 0 0 0]</td>\n",
       "    </tr>\n",
       "    <tr>\n",
       "      <th>3</th>\n",
       "      <td>The Bulgarian army under the command of Nestoritsa was defeated by the Byzantines led by the governor of Thessalonica Theophylactus Botaniates and it was unable to divert the main Byzantine forces who were attacking the Bulgarian ramparts between the Belasitsa and Ograzhden mountains .</td>\n",
       "      <td>[The, Bulgarian, army, under, the, command, of, Nestoritsa, wasdefeated, by, the, Byzantines, led, by, the, governor, ofThessalonica, Theophylactus, Botaniates, and, it, was, unableto, divert, the, main, Byzantine, forces, who, were, attackingthe, Bulgarian, ramparts, between, the, Belasitsa, andOgrazhden, mountains, .]</td>\n",
       "      <td>[0 0 0 0 0 0 0 0 0 0 0 0 0 0 0 0 0 0 0 0 0 0 0 0 0 0 0 0 0 0 0 0 0 0 0 0 0\\n 0 1 2 0 1 0 0]</td>\n",
       "    </tr>\n",
       "    <tr>\n",
       "      <th>4</th>\n",
       "      <td>Through Mountain Madness , Fischer guided the 1993 Climb for the Cure on Denali ( 20,320 feet ) in Alaska which was organized by eight students at Princeton University .</td>\n",
       "      <td>[Through, Mountain, Madness, ,, Fischer, guided, the, 1993Climb, for, the, Cure, on, Denali, (, 20,320, feet, ), inAlaska, which, was, organized, by, eight, students, atPrinceton, University, .]</td>\n",
       "      <td>[0 0 0 0 0 0 0 0 0 0 0 1 0 0 0 0 0 0 0 0 0 0 0 0 0 0 0 0 0 0]</td>\n",
       "    </tr>\n",
       "  </tbody>\n",
       "</table>\n",
       "</div>"
      ],
      "text/plain": [
       "                                                                                                                                                                                                                                                                                         sentence  \\\n",
       "0                                                                                                                                  Virender Sehwag and Harbhajan Singh were not named in the Indian squad due to recent poor performances while Irfan Pathan and Munaf Patel were not fully fit .   \n",
       "1                                                                                                                             Mount Nangtud is the second highest mountain in Panay Island located in the Northeast of Barbaza with an elevation of 6,804 feet ( 2,074 meters ) above sea level .   \n",
       "2                                                                                                                                                                                                                    The European Team Championship bridge championship is held every two years .   \n",
       "3  The Bulgarian army under the command of Nestoritsa was defeated by the Byzantines led by the governor of Thessalonica Theophylactus Botaniates and it was unable to divert the main Byzantine forces who were attacking the Bulgarian ramparts between the Belasitsa and Ograzhden mountains .   \n",
       "4                                                                                                                       Through Mountain Madness , Fischer guided the 1993 Climb for the Cure on Denali ( 20,320 feet ) in Alaska which was organized by eight students at Princeton University .   \n",
       "\n",
       "                                                                                                                                                                                                                                                                                                                              tokens  \\\n",
       "0                                                                                                                                            [Virender, Sehwag, and, Harbhajan, Singh, were, not, named, inthe, Indian, squad, due, to, recent, poor, performances, whileIrfan, Pathan, and, Munaf, Patel, were, not, fully, fit, .]   \n",
       "1                                                                                                                                       [Mount, Nangtud, is, the, second, highest, mountain, in, PanayIsland, located, in, the, Northeast, of, Barbaza, with, anelevation, of, 6,804, feet, (, 2,074, meters, ), above, sealevel, .]   \n",
       "2                                                                                                                                                                                                                                            [The, European, Team, Championship, bridge, championship, isheld, every, two, years, .]   \n",
       "3  [The, Bulgarian, army, under, the, command, of, Nestoritsa, wasdefeated, by, the, Byzantines, led, by, the, governor, ofThessalonica, Theophylactus, Botaniates, and, it, was, unableto, divert, the, main, Byzantine, forces, who, were, attackingthe, Bulgarian, ramparts, between, the, Belasitsa, andOgrazhden, mountains, .]   \n",
       "4                                                                                                                                 [Through, Mountain, Madness, ,, Fischer, guided, the, 1993Climb, for, the, Cure, on, Denali, (, 20,320, feet, ), inAlaska, which, was, organized, by, eight, students, atPrinceton, University, .]   \n",
       "\n",
       "                                                                                        labels  \n",
       "0                                    [0 0 0 0 0 0 0 0 0 0 0 0 0 0 0 0 0 0 0 0 0 0 0 0 0 0 0 0]  \n",
       "1                                [1 2 0 0 0 0 0 0 0 0 0 0 0 0 0 0 0 0 0 0 0 0 0 0 0 0 0 0 0 0]  \n",
       "2                                                                    [0 0 0 0 0 0 0 0 0 0 0 0]  \n",
       "3  [0 0 0 0 0 0 0 0 0 0 0 0 0 0 0 0 0 0 0 0 0 0 0 0 0 0 0 0 0 0 0 0 0 0 0 0 0\\n 0 1 2 0 1 0 0]  \n",
       "4                                [0 0 0 0 0 0 0 0 0 0 0 1 0 0 0 0 0 0 0 0 0 0 0 0 0 0 0 0 0 0]  "
      ]
     },
     "execution_count": 112,
     "metadata": {},
     "output_type": "execute_result"
    }
   ],
   "source": [
    "dataset_df.head(5)"
   ]
  },
  {
   "cell_type": "code",
   "execution_count": 6,
   "metadata": {},
   "outputs": [
    {
     "data": {
      "text/plain": [
       "(3827, 3)"
      ]
     },
     "execution_count": 6,
     "metadata": {},
     "output_type": "execute_result"
    }
   ],
   "source": [
    "dataset_df.shape"
   ]
  },
  {
   "cell_type": "code",
   "execution_count": 7,
   "metadata": {},
   "outputs": [
    {
     "data": {
      "text/plain": [
       "sentence    0\n",
       "tokens      0\n",
       "labels      0\n",
       "dtype: int64"
      ]
     },
     "execution_count": 7,
     "metadata": {},
     "output_type": "execute_result"
    }
   ],
   "source": [
    "dataset_df.isnull().sum()"
   ]
  },
  {
   "cell_type": "code",
   "execution_count": 66,
   "metadata": {},
   "outputs": [],
   "source": [
    "pd.set_option('display.max_colwidth', None)"
   ]
  },
  {
   "cell_type": "code",
   "execution_count": 68,
   "metadata": {},
   "outputs": [
    {
     "name": "stdout",
     "output_type": "stream",
     "text": [
      "                                                                                            sentence  \\\n",
      "2881  The highest point in Brazil is the Pico da Neblina at , and the lowest is the Atlantic Ocean .   \n",
      "\n",
      "                                                                                                                                          tokens  \\\n",
      "2881  ['The' 'highest' 'point' 'in' 'Brazil' 'is' 'the' 'Pico' 'da' 'Neblina'\\n 'at' ',' 'and' 'the' 'lowest' 'is' 'the' 'Atlantic' 'Ocean' '.']   \n",
      "\n",
      "                                         labels  \n",
      "2881  [0 0 0 0 0 0 0 1 2 2 0 0 0 0 0 0 0 0 0 0]  \n"
     ]
    }
   ],
   "source": [
    "print(dataset_df.sample(1))"
   ]
  },
  {
   "cell_type": "code",
   "execution_count": 35,
   "metadata": {},
   "outputs": [
    {
     "ename": "NameError",
     "evalue": "name 'load_and_convert_labels' is not defined",
     "output_type": "error",
     "traceback": [
      "\u001b[0;31m---------------------------------------------------------------------------\u001b[0m",
      "\u001b[0;31mNameError\u001b[0m                                 Traceback (most recent call last)",
      "Cell \u001b[0;32mIn[35], line 1\u001b[0m\n\u001b[0;32m----> 1\u001b[0m processed_df \u001b[38;5;241m=\u001b[39m \u001b[43mload_and_convert_labels\u001b[49m(dataset_path)\n",
      "\u001b[0;31mNameError\u001b[0m: name 'load_and_convert_labels' is not defined"
     ]
    }
   ],
   "source": [
    "processed_df = load_and_convert_labels(dataset_path)"
   ]
  },
  {
   "cell_type": "code",
   "execution_count": 31,
   "metadata": {},
   "outputs": [
    {
     "data": {
      "text/html": [
       "<div>\n",
       "<style scoped>\n",
       "    .dataframe tbody tr th:only-of-type {\n",
       "        vertical-align: middle;\n",
       "    }\n",
       "\n",
       "    .dataframe tbody tr th {\n",
       "        vertical-align: top;\n",
       "    }\n",
       "\n",
       "    .dataframe thead th {\n",
       "        text-align: right;\n",
       "    }\n",
       "</style>\n",
       "<table border=\"1\" class=\"dataframe\">\n",
       "  <thead>\n",
       "    <tr style=\"text-align: right;\">\n",
       "      <th></th>\n",
       "      <th>sentence</th>\n",
       "      <th>tokens</th>\n",
       "      <th>labels</th>\n",
       "    </tr>\n",
       "  </thead>\n",
       "  <tbody>\n",
       "    <tr>\n",
       "      <th>0</th>\n",
       "      <td>Virender Sehwag and Harbhajan Singh were not named in the Indian squad due to recent poor performances while Irfan Pathan and Munaf Patel were not fully fit .</td>\n",
       "      <td>['Virender' 'Sehwag' 'and' 'Harbhajan' 'Singh' 'were' 'not' 'named' 'in'\\n 'the' 'Indian' 'squad' 'due' 'to' 'recent' 'poor' 'performances' 'while'\\n 'Irfan' 'Pathan' 'and' 'Munaf' 'Patel' 'were' 'not' 'fully' 'fit' '.']</td>\n",
       "      <td>[O, O, O, O, O, O, O, O, O, O, O, O, O, O, O, O, O, O, O, O, O, O, O, O, O, O, O, O]</td>\n",
       "    </tr>\n",
       "    <tr>\n",
       "      <th>1</th>\n",
       "      <td>Mount Nangtud is the second highest mountain in Panay Island located in the Northeast of Barbaza with an elevation of 6,804 feet ( 2,074 meters ) above sea level .</td>\n",
       "      <td>['Mount' 'Nangtud' 'is' 'the' 'second' 'highest' 'mountain' 'in' 'Panay'\\n 'Island' 'located' 'in' 'the' 'Northeast' 'of' 'Barbaza' 'with' 'an'\\n 'elevation' 'of' '6,804' 'feet' '(' '2,074' 'meters' ')' 'above' 'sea'\\n 'level' '.']</td>\n",
       "      <td>[B-MOUNTAIN, I-MOUNTAIN, O, O, O, O, O, O, O, O, O, O, O, O, O, O, O, O, O, O, O, O, O, O, O, O, O, O, O, O]</td>\n",
       "    </tr>\n",
       "    <tr>\n",
       "      <th>2</th>\n",
       "      <td>The European Team Championship bridge championship is held every two years .</td>\n",
       "      <td>['The' 'European' 'Team' 'Championship' 'bridge' 'championship' 'is'\\n 'held' 'every' 'two' 'years' '.']</td>\n",
       "      <td>[O, O, O, O, O, O, O, O, O, O, O, O]</td>\n",
       "    </tr>\n",
       "    <tr>\n",
       "      <th>3</th>\n",
       "      <td>The Bulgarian army under the command of Nestoritsa was defeated by the Byzantines led by the governor of Thessalonica Theophylactus Botaniates and it was unable to divert the main Byzantine forces who were attacking the Bulgarian ramparts between the Belasitsa and Ograzhden mountains .</td>\n",
       "      <td>['The' 'Bulgarian' 'army' 'under' 'the' 'command' 'of' 'Nestoritsa' 'was'\\n 'defeated' 'by' 'the' 'Byzantines' 'led' 'by' 'the' 'governor' 'of'\\n 'Thessalonica' 'Theophylactus' 'Botaniates' 'and' 'it' 'was' 'unable'\\n 'to' 'divert' 'the' 'main' 'Byzantine' 'forces' 'who' 'were' 'attacking'\\n 'the' 'Bulgarian' 'ramparts' 'between' 'the' 'Belasitsa' 'and'\\n 'Ograzhden' 'mountains' '.']</td>\n",
       "      <td>[O, O, O, O, O, O, O, O, O, O, O, O, O, O, O, O, O, O, O, O, O, O, O, O, O, O, O, O, O, O, O, O, O, O, O, O, O, O, B-MOUNTAIN, I-MOUNTAIN, O, B-MOUNTAIN, O, O]</td>\n",
       "    </tr>\n",
       "    <tr>\n",
       "      <th>4</th>\n",
       "      <td>Through Mountain Madness , Fischer guided the 1993 Climb for the Cure on Denali ( 20,320 feet ) in Alaska which was organized by eight students at Princeton University .</td>\n",
       "      <td>['Through' 'Mountain' 'Madness' ',' 'Fischer' 'guided' 'the' '1993'\\n 'Climb' 'for' 'the' 'Cure' 'on' 'Denali' '(' '20,320' 'feet' ')' 'in'\\n 'Alaska' 'which' 'was' 'organized' 'by' 'eight' 'students' 'at'\\n 'Princeton' 'University' '.']</td>\n",
       "      <td>[O, O, O, O, O, O, O, O, O, O, O, B-MOUNTAIN, O, O, O, O, O, O, O, O, O, O, O, O, O, O, O, O, O, O]</td>\n",
       "    </tr>\n",
       "  </tbody>\n",
       "</table>\n",
       "</div>"
      ],
      "text/plain": [
       "                                                                                                                                                                                                                                                                                         sentence  \\\n",
       "0                                                                                                                                  Virender Sehwag and Harbhajan Singh were not named in the Indian squad due to recent poor performances while Irfan Pathan and Munaf Patel were not fully fit .   \n",
       "1                                                                                                                             Mount Nangtud is the second highest mountain in Panay Island located in the Northeast of Barbaza with an elevation of 6,804 feet ( 2,074 meters ) above sea level .   \n",
       "2                                                                                                                                                                                                                    The European Team Championship bridge championship is held every two years .   \n",
       "3  The Bulgarian army under the command of Nestoritsa was defeated by the Byzantines led by the governor of Thessalonica Theophylactus Botaniates and it was unable to divert the main Byzantine forces who were attacking the Bulgarian ramparts between the Belasitsa and Ograzhden mountains .   \n",
       "4                                                                                                                       Through Mountain Madness , Fischer guided the 1993 Climb for the Cure on Denali ( 20,320 feet ) in Alaska which was organized by eight students at Princeton University .   \n",
       "\n",
       "                                                                                                                                                                                                                                                                                                                                                                                               tokens  \\\n",
       "0                                                                                                                                                                        ['Virender' 'Sehwag' 'and' 'Harbhajan' 'Singh' 'were' 'not' 'named' 'in'\\n 'the' 'Indian' 'squad' 'due' 'to' 'recent' 'poor' 'performances' 'while'\\n 'Irfan' 'Pathan' 'and' 'Munaf' 'Patel' 'were' 'not' 'fully' 'fit' '.']   \n",
       "1                                                                                                                                                             ['Mount' 'Nangtud' 'is' 'the' 'second' 'highest' 'mountain' 'in' 'Panay'\\n 'Island' 'located' 'in' 'the' 'Northeast' 'of' 'Barbaza' 'with' 'an'\\n 'elevation' 'of' '6,804' 'feet' '(' '2,074' 'meters' ')' 'above' 'sea'\\n 'level' '.']   \n",
       "2                                                                                                                                                                                                                                                                                            ['The' 'European' 'Team' 'Championship' 'bridge' 'championship' 'is'\\n 'held' 'every' 'two' 'years' '.']   \n",
       "3  ['The' 'Bulgarian' 'army' 'under' 'the' 'command' 'of' 'Nestoritsa' 'was'\\n 'defeated' 'by' 'the' 'Byzantines' 'led' 'by' 'the' 'governor' 'of'\\n 'Thessalonica' 'Theophylactus' 'Botaniates' 'and' 'it' 'was' 'unable'\\n 'to' 'divert' 'the' 'main' 'Byzantine' 'forces' 'who' 'were' 'attacking'\\n 'the' 'Bulgarian' 'ramparts' 'between' 'the' 'Belasitsa' 'and'\\n 'Ograzhden' 'mountains' '.']   \n",
       "4                                                                                                                                                       ['Through' 'Mountain' 'Madness' ',' 'Fischer' 'guided' 'the' '1993'\\n 'Climb' 'for' 'the' 'Cure' 'on' 'Denali' '(' '20,320' 'feet' ')' 'in'\\n 'Alaska' 'which' 'was' 'organized' 'by' 'eight' 'students' 'at'\\n 'Princeton' 'University' '.']   \n",
       "\n",
       "                                                                                                                                                            labels  \n",
       "0                                                                             [O, O, O, O, O, O, O, O, O, O, O, O, O, O, O, O, O, O, O, O, O, O, O, O, O, O, O, O]  \n",
       "1                                                     [B-MOUNTAIN, I-MOUNTAIN, O, O, O, O, O, O, O, O, O, O, O, O, O, O, O, O, O, O, O, O, O, O, O, O, O, O, O, O]  \n",
       "2                                                                                                                             [O, O, O, O, O, O, O, O, O, O, O, O]  \n",
       "3  [O, O, O, O, O, O, O, O, O, O, O, O, O, O, O, O, O, O, O, O, O, O, O, O, O, O, O, O, O, O, O, O, O, O, O, O, O, O, B-MOUNTAIN, I-MOUNTAIN, O, B-MOUNTAIN, O, O]  \n",
       "4                                                              [O, O, O, O, O, O, O, O, O, O, O, B-MOUNTAIN, O, O, O, O, O, O, O, O, O, O, O, O, O, O, O, O, O, O]  "
      ]
     },
     "execution_count": 31,
     "metadata": {},
     "output_type": "execute_result"
    }
   ],
   "source": [
    "processed_df.head()"
   ]
  },
  {
   "cell_type": "code",
   "execution_count": 42,
   "metadata": {},
   "outputs": [],
   "source": [
    "import sys\n",
    "sys.path.append('/home/oks/VSCode_Projects/Data_Science_Test_Task/Task_1_NER/src')\n",
    "\n",
    "# Імпортуємо функцію\n",
    "from tokenize_and_align_labels import tokenize_and_align_labels\n",
    "tokenized_inputs = tokenize_and_align_labels(example, label_mapping)"
   ]
  }
 ],
 "metadata": {
  "kernelspec": {
   "display_name": "venv",
   "language": "python",
   "name": "python3"
  },
  "language_info": {
   "codemirror_mode": {
    "name": "ipython",
    "version": 3
   },
   "file_extension": ".py",
   "mimetype": "text/x-python",
   "name": "python",
   "nbconvert_exporter": "python",
   "pygments_lexer": "ipython3",
   "version": "3.10.12"
  }
 },
 "nbformat": 4,
 "nbformat_minor": 2
}
